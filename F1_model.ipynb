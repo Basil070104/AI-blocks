{
  "nbformat": 4,
  "nbformat_minor": 0,
  "metadata": {
    "colab": {
      "provenance": [],
      "gpuType": "T4",
      "toc_visible": true,
      "authorship_tag": "ABX9TyPu9/xOTXcktXFXMiTPa2vo",
      "include_colab_link": true
    },
    "kernelspec": {
      "name": "python3",
      "display_name": "Python 3"
    },
    "language_info": {
      "name": "python"
    },
    "accelerator": "GPU"
  },
  "cells": [
    {
      "cell_type": "markdown",
      "metadata": {
        "id": "view-in-github",
        "colab_type": "text"
      },
      "source": [
        "<a href=\"https://colab.research.google.com/github/Basil070104/AI-blocks/blob/main/F1_model.ipynb\" target=\"_parent\"><img src=\"https://colab.research.google.com/assets/colab-badge.svg\" alt=\"Open In Colab\"/></a>"
      ]
    },
    {
      "cell_type": "markdown",
      "source": [
        "#Load in F1 Dataset#"
      ],
      "metadata": {
        "id": "F9-2HURMGTSi"
      }
    },
    {
      "cell_type": "code",
      "execution_count": null,
      "metadata": {
        "colab": {
          "base_uri": "https://localhost:8080/"
        },
        "id": "4HMZKMDvGQm8",
        "outputId": "f61d51a8-1249-4045-d366-9b4cb6cbd5c4"
      },
      "outputs": [
        {
          "output_type": "stream",
          "name": "stdout",
          "text": [
            "Requirement already satisfied: panda in /usr/local/lib/python3.11/dist-packages (0.3.1)\n",
            "Requirement already satisfied: setuptools in /usr/local/lib/python3.11/dist-packages (from panda) (75.1.0)\n",
            "Requirement already satisfied: requests in /usr/local/lib/python3.11/dist-packages (from panda) (2.32.3)\n",
            "Requirement already satisfied: charset-normalizer<4,>=2 in /usr/local/lib/python3.11/dist-packages (from requests->panda) (3.4.1)\n",
            "Requirement already satisfied: idna<4,>=2.5 in /usr/local/lib/python3.11/dist-packages (from requests->panda) (3.10)\n",
            "Requirement already satisfied: urllib3<3,>=1.21.1 in /usr/local/lib/python3.11/dist-packages (from requests->panda) (2.3.0)\n",
            "Requirement already satisfied: certifi>=2017.4.17 in /usr/local/lib/python3.11/dist-packages (from requests->panda) (2025.1.31)\n",
            "Requirement already satisfied: kagglehub[hf-datasets] in /usr/local/lib/python3.11/dist-packages (0.3.10)\n",
            "Requirement already satisfied: packaging in /usr/local/lib/python3.11/dist-packages (from kagglehub[hf-datasets]) (24.2)\n",
            "Requirement already satisfied: pyyaml in /usr/local/lib/python3.11/dist-packages (from kagglehub[hf-datasets]) (6.0.2)\n",
            "Requirement already satisfied: requests in /usr/local/lib/python3.11/dist-packages (from kagglehub[hf-datasets]) (2.32.3)\n",
            "Requirement already satisfied: tqdm in /usr/local/lib/python3.11/dist-packages (from kagglehub[hf-datasets]) (4.67.1)\n",
            "Collecting datasets (from kagglehub[hf-datasets])\n",
            "  Downloading datasets-3.4.0-py3-none-any.whl.metadata (19 kB)\n",
            "Requirement already satisfied: pandas in /usr/local/lib/python3.11/dist-packages (from kagglehub[hf-datasets]) (2.2.2)\n",
            "Requirement already satisfied: filelock in /usr/local/lib/python3.11/dist-packages (from datasets->kagglehub[hf-datasets]) (3.17.0)\n",
            "Requirement already satisfied: numpy>=1.17 in /usr/local/lib/python3.11/dist-packages (from datasets->kagglehub[hf-datasets]) (1.26.4)\n",
            "Requirement already satisfied: pyarrow>=15.0.0 in /usr/local/lib/python3.11/dist-packages (from datasets->kagglehub[hf-datasets]) (18.1.0)\n",
            "Collecting dill<0.3.9,>=0.3.0 (from datasets->kagglehub[hf-datasets])\n",
            "  Downloading dill-0.3.8-py3-none-any.whl.metadata (10 kB)\n",
            "Collecting xxhash (from datasets->kagglehub[hf-datasets])\n",
            "  Downloading xxhash-3.5.0-cp311-cp311-manylinux_2_17_x86_64.manylinux2014_x86_64.whl.metadata (12 kB)\n",
            "Collecting multiprocess<0.70.17 (from datasets->kagglehub[hf-datasets])\n",
            "  Downloading multiprocess-0.70.16-py311-none-any.whl.metadata (7.2 kB)\n",
            "Requirement already satisfied: fsspec<=2024.12.0,>=2023.1.0 in /usr/local/lib/python3.11/dist-packages (from fsspec[http]<=2024.12.0,>=2023.1.0->datasets->kagglehub[hf-datasets]) (2024.10.0)\n",
            "Requirement already satisfied: aiohttp in /usr/local/lib/python3.11/dist-packages (from datasets->kagglehub[hf-datasets]) (3.11.13)\n",
            "Requirement already satisfied: huggingface-hub>=0.24.0 in /usr/local/lib/python3.11/dist-packages (from datasets->kagglehub[hf-datasets]) (0.28.1)\n",
            "Requirement already satisfied: charset-normalizer<4,>=2 in /usr/local/lib/python3.11/dist-packages (from requests->kagglehub[hf-datasets]) (3.4.1)\n",
            "Requirement already satisfied: idna<4,>=2.5 in /usr/local/lib/python3.11/dist-packages (from requests->kagglehub[hf-datasets]) (3.10)\n",
            "Requirement already satisfied: urllib3<3,>=1.21.1 in /usr/local/lib/python3.11/dist-packages (from requests->kagglehub[hf-datasets]) (2.3.0)\n",
            "Requirement already satisfied: certifi>=2017.4.17 in /usr/local/lib/python3.11/dist-packages (from requests->kagglehub[hf-datasets]) (2025.1.31)\n",
            "Requirement already satisfied: python-dateutil>=2.8.2 in /usr/local/lib/python3.11/dist-packages (from pandas->kagglehub[hf-datasets]) (2.8.2)\n",
            "Requirement already satisfied: pytz>=2020.1 in /usr/local/lib/python3.11/dist-packages (from pandas->kagglehub[hf-datasets]) (2025.1)\n",
            "Requirement already satisfied: tzdata>=2022.7 in /usr/local/lib/python3.11/dist-packages (from pandas->kagglehub[hf-datasets]) (2025.1)\n",
            "Requirement already satisfied: aiohappyeyeballs>=2.3.0 in /usr/local/lib/python3.11/dist-packages (from aiohttp->datasets->kagglehub[hf-datasets]) (2.6.1)\n",
            "Requirement already satisfied: aiosignal>=1.1.2 in /usr/local/lib/python3.11/dist-packages (from aiohttp->datasets->kagglehub[hf-datasets]) (1.3.2)\n",
            "Requirement already satisfied: attrs>=17.3.0 in /usr/local/lib/python3.11/dist-packages (from aiohttp->datasets->kagglehub[hf-datasets]) (25.2.0)\n",
            "Requirement already satisfied: frozenlist>=1.1.1 in /usr/local/lib/python3.11/dist-packages (from aiohttp->datasets->kagglehub[hf-datasets]) (1.5.0)\n",
            "Requirement already satisfied: multidict<7.0,>=4.5 in /usr/local/lib/python3.11/dist-packages (from aiohttp->datasets->kagglehub[hf-datasets]) (6.1.0)\n",
            "Requirement already satisfied: propcache>=0.2.0 in /usr/local/lib/python3.11/dist-packages (from aiohttp->datasets->kagglehub[hf-datasets]) (0.3.0)\n",
            "Requirement already satisfied: yarl<2.0,>=1.17.0 in /usr/local/lib/python3.11/dist-packages (from aiohttp->datasets->kagglehub[hf-datasets]) (1.18.3)\n",
            "Requirement already satisfied: typing-extensions>=3.7.4.3 in /usr/local/lib/python3.11/dist-packages (from huggingface-hub>=0.24.0->datasets->kagglehub[hf-datasets]) (4.12.2)\n",
            "Requirement already satisfied: six>=1.5 in /usr/local/lib/python3.11/dist-packages (from python-dateutil>=2.8.2->pandas->kagglehub[hf-datasets]) (1.17.0)\n",
            "Downloading datasets-3.4.0-py3-none-any.whl (487 kB)\n",
            "\u001b[2K   \u001b[90m━━━━━━━━━━━━━━━━━━━━━━━━━━━━━━━━━━━━━━━━\u001b[0m \u001b[32m487.4/487.4 kB\u001b[0m \u001b[31m16.3 MB/s\u001b[0m eta \u001b[36m0:00:00\u001b[0m\n",
            "\u001b[?25hDownloading dill-0.3.8-py3-none-any.whl (116 kB)\n",
            "\u001b[2K   \u001b[90m━━━━━━━━━━━━━━━━━━━━━━━━━━━━━━━━━━━━━━━━\u001b[0m \u001b[32m116.3/116.3 kB\u001b[0m \u001b[31m11.8 MB/s\u001b[0m eta \u001b[36m0:00:00\u001b[0m\n",
            "\u001b[?25hDownloading multiprocess-0.70.16-py311-none-any.whl (143 kB)\n",
            "\u001b[2K   \u001b[90m━━━━━━━━━━━━━━━━━━━━━━━━━━━━━━━━━━━━━━━━\u001b[0m \u001b[32m143.5/143.5 kB\u001b[0m \u001b[31m11.0 MB/s\u001b[0m eta \u001b[36m0:00:00\u001b[0m\n",
            "\u001b[?25hDownloading xxhash-3.5.0-cp311-cp311-manylinux_2_17_x86_64.manylinux2014_x86_64.whl (194 kB)\n",
            "\u001b[2K   \u001b[90m━━━━━━━━━━━━━━━━━━━━━━━━━━━━━━━━━━━━━━━━\u001b[0m \u001b[32m194.8/194.8 kB\u001b[0m \u001b[31m18.0 MB/s\u001b[0m eta \u001b[36m0:00:00\u001b[0m\n",
            "\u001b[?25hInstalling collected packages: xxhash, dill, multiprocess, datasets\n",
            "Successfully installed datasets-3.4.0 dill-0.3.8 multiprocess-0.70.16 xxhash-3.5.0\n"
          ]
        }
      ],
      "source": [
        "!pip install panda\n",
        "!pip install kagglehub[hf-datasets]"
      ]
    },
    {
      "cell_type": "code",
      "source": [
        "import kagglehub\n",
        "from kagglehub import KaggleDatasetAdapter\n",
        "\n",
        "f1_dataset = {}\n",
        "\n",
        "f1_dataset[\"drivers\"] = kagglehub.load_dataset(\n",
        "  KaggleDatasetAdapter.HUGGING_FACE,\n",
        "  \"rohanrao/formula-1-world-championship-1950-2020\",\n",
        "  \"drivers.csv\",\n",
        "  # Provide any additional arguments like\n",
        "  # sql_query, hf_kwargs, or pandas_kwargs. See\n",
        "  # the documenation for more information:\n",
        "  # https://github.com/Kaggle/kagglehub/blob/main/README.md#kaggledatasetadapterhugging_face\n",
        ")\n",
        "\n",
        "print(\"Hugging Face Dataset:\", f1_dataset[\"drivers\"])"
      ],
      "metadata": {
        "colab": {
          "base_uri": "https://localhost:8080/"
        },
        "id": "xcD6Y1V7JqZM",
        "outputId": "ada41cfd-fe5f-4ac5-fb1b-e301a71bcc21"
      },
      "execution_count": null,
      "outputs": [
        {
          "output_type": "stream",
          "name": "stderr",
          "text": [
            "<ipython-input-11-8ea7ef710a2e>:6: DeprecationWarning: load_dataset is deprecated and will be removed in future version.\n",
            "  f1_dataset[\"drivers\"] = kagglehub.load_dataset(\n"
          ]
        },
        {
          "output_type": "stream",
          "name": "stdout",
          "text": [
            "Hugging Face Dataset: Dataset({\n",
            "    features: ['driverId', 'driverRef', 'number', 'code', 'forename', 'surname', 'dob', 'nationality', 'url'],\n",
            "    num_rows: 861\n",
            "})\n"
          ]
        }
      ]
    },
    {
      "cell_type": "code",
      "source": [
        "f1_dataset[\"circuits\"] = kagglehub.load_dataset(\n",
        "  KaggleDatasetAdapter.HUGGING_FACE,\n",
        "  \"rohanrao/formula-1-world-championship-1950-2020\",\n",
        "  \"circuits.csv\",\n",
        ")\n",
        "\n",
        "f1_dataset[\"constructor_results\"] = kagglehub.load_dataset(\n",
        "  KaggleDatasetAdapter.HUGGING_FACE,\n",
        "  \"rohanrao/formula-1-world-championship-1950-2020\",\n",
        "  \"constructor_results.csv\",\n",
        ")\n",
        "\n",
        "f1_dataset[\"constructor_standings\"] = kagglehub.load_dataset(\n",
        "  KaggleDatasetAdapter.HUGGING_FACE,\n",
        "  \"rohanrao/formula-1-world-championship-1950-2020\",\n",
        "  \"constructor_standings.csv\",\n",
        ")\n",
        "\n",
        "f1_dataset[\"constructors\"] = kagglehub.load_dataset(\n",
        "  KaggleDatasetAdapter.HUGGING_FACE,\n",
        "  \"rohanrao/formula-1-world-championship-1950-2020\",\n",
        "  \"constructors.csv\",\n",
        ")\n",
        "\n",
        "f1_dataset[\"driver_standings\"] = kagglehub.load_dataset(\n",
        "  KaggleDatasetAdapter.HUGGING_FACE,\n",
        "  \"rohanrao/formula-1-world-championship-1950-2020\",\n",
        "  \"driver_standings.csv\",\n",
        ")\n",
        "\n",
        "f1_dataset[\"lap_times\"] = kagglehub.load_dataset(\n",
        "  KaggleDatasetAdapter.HUGGING_FACE,\n",
        "  \"rohanrao/formula-1-world-championship-1950-2020\",\n",
        "  \"lap_times.csv\",\n",
        ")\n",
        "\n",
        "f1_dataset[\"pit_stops\"] = kagglehub.load_dataset(\n",
        "  KaggleDatasetAdapter.HUGGING_FACE,\n",
        "  \"rohanrao/formula-1-world-championship-1950-2020\",\n",
        "  \"pit_stops.csv\",\n",
        ")\n",
        "\n",
        "f1_dataset[\"qualifying\"] = kagglehub.load_dataset(\n",
        "  KaggleDatasetAdapter.HUGGING_FACE,\n",
        "  \"rohanrao/formula-1-world-championship-1950-2020\",\n",
        "  \"qualifying.csv\",\n",
        ")\n",
        "\n",
        "f1_dataset[\"races\"] = kagglehub.load_dataset(\n",
        "  KaggleDatasetAdapter.HUGGING_FACE,\n",
        "  \"rohanrao/formula-1-world-championship-1950-2020\",\n",
        "  \"races.csv\",\n",
        ")\n",
        "\n",
        "f1_dataset[\"results\"] = kagglehub.load_dataset(\n",
        "  KaggleDatasetAdapter.HUGGING_FACE,\n",
        "  \"rohanrao/formula-1-world-championship-1950-2020\",\n",
        "  \"results.csv\",\n",
        ")\n",
        "\n",
        "f1_dataset[\"seasons\"] = kagglehub.load_dataset(\n",
        "  KaggleDatasetAdapter.HUGGING_FACE,\n",
        "  \"rohanrao/formula-1-world-championship-1950-2020\",\n",
        "  \"seasons.csv\",\n",
        ")\n",
        "\n",
        "f1_dataset[\"sprint_results\"] = kagglehub.load_dataset(\n",
        "  KaggleDatasetAdapter.HUGGING_FACE,\n",
        "  \"rohanrao/formula-1-world-championship-1950-2020\",\n",
        "  \"sprint_results.csv\",\n",
        ")\n",
        "\n",
        "f1_dataset[\"status\"] = kagglehub.load_dataset(\n",
        "  KaggleDatasetAdapter.HUGGING_FACE,\n",
        "  \"rohanrao/formula-1-world-championship-1950-2020\",\n",
        "  \"status.csv\",\n",
        ")"
      ],
      "metadata": {
        "colab": {
          "base_uri": "https://localhost:8080/"
        },
        "id": "vfzANFN1KnEh",
        "outputId": "ebb63647-866c-492f-94b4-d78b5ebb92ea"
      },
      "execution_count": null,
      "outputs": [
        {
          "output_type": "stream",
          "name": "stderr",
          "text": [
            "<ipython-input-12-0722a2bd63d3>:1: DeprecationWarning: load_dataset is deprecated and will be removed in future version.\n",
            "  f1_dataset[\"circuits\"] = kagglehub.load_dataset(\n",
            "<ipython-input-12-0722a2bd63d3>:7: DeprecationWarning: load_dataset is deprecated and will be removed in future version.\n",
            "  f1_dataset[\"constructor_results\"] = kagglehub.load_dataset(\n",
            "<ipython-input-12-0722a2bd63d3>:13: DeprecationWarning: load_dataset is deprecated and will be removed in future version.\n",
            "  f1_dataset[\"constructor_standings\"] = kagglehub.load_dataset(\n",
            "<ipython-input-12-0722a2bd63d3>:19: DeprecationWarning: load_dataset is deprecated and will be removed in future version.\n",
            "  f1_dataset[\"constructors\"] = kagglehub.load_dataset(\n",
            "<ipython-input-12-0722a2bd63d3>:25: DeprecationWarning: load_dataset is deprecated and will be removed in future version.\n",
            "  f1_dataset[\"driver_standings\"] = kagglehub.load_dataset(\n",
            "<ipython-input-12-0722a2bd63d3>:31: DeprecationWarning: load_dataset is deprecated and will be removed in future version.\n",
            "  f1_dataset[\"lap_times\"] = kagglehub.load_dataset(\n",
            "<ipython-input-12-0722a2bd63d3>:37: DeprecationWarning: load_dataset is deprecated and will be removed in future version.\n",
            "  f1_dataset[\"pit_stops\"] = kagglehub.load_dataset(\n",
            "<ipython-input-12-0722a2bd63d3>:43: DeprecationWarning: load_dataset is deprecated and will be removed in future version.\n",
            "  f1_dataset[\"qualifying\"] = kagglehub.load_dataset(\n",
            "<ipython-input-12-0722a2bd63d3>:49: DeprecationWarning: load_dataset is deprecated and will be removed in future version.\n",
            "  f1_dataset[\"races\"] = kagglehub.load_dataset(\n",
            "<ipython-input-12-0722a2bd63d3>:55: DeprecationWarning: load_dataset is deprecated and will be removed in future version.\n",
            "  f1_dataset[\"results\"] = kagglehub.load_dataset(\n",
            "<ipython-input-12-0722a2bd63d3>:61: DeprecationWarning: load_dataset is deprecated and will be removed in future version.\n",
            "  f1_dataset[\"seasons\"] = kagglehub.load_dataset(\n",
            "<ipython-input-12-0722a2bd63d3>:67: DeprecationWarning: load_dataset is deprecated and will be removed in future version.\n",
            "  f1_dataset[\"sprint_results\"] = kagglehub.load_dataset(\n",
            "<ipython-input-12-0722a2bd63d3>:73: DeprecationWarning: load_dataset is deprecated and will be removed in future version.\n",
            "  f1_dataset[\"status\"] = kagglehub.load_dataset(\n"
          ]
        }
      ]
    },
    {
      "cell_type": "code",
      "source": [
        "print(f1_dataset)"
      ],
      "metadata": {
        "colab": {
          "base_uri": "https://localhost:8080/"
        },
        "id": "7j-owkYnNBow",
        "outputId": "6c28dbf1-f5f5-456e-8a6c-fee2d88f3c28"
      },
      "execution_count": null,
      "outputs": [
        {
          "output_type": "stream",
          "name": "stdout",
          "text": [
            "{'drivers': Dataset({\n",
            "    features: ['driverId', 'driverRef', 'number', 'code', 'forename', 'surname', 'dob', 'nationality', 'url'],\n",
            "    num_rows: 861\n",
            "}), 'circuits': Dataset({\n",
            "    features: ['circuitId', 'circuitRef', 'name', 'location', 'country', 'lat', 'lng', 'alt', 'url'],\n",
            "    num_rows: 77\n",
            "}), 'constructor_results': Dataset({\n",
            "    features: ['constructorResultsId', 'raceId', 'constructorId', 'points', 'status'],\n",
            "    num_rows: 12625\n",
            "}), 'constructor_standings': Dataset({\n",
            "    features: ['constructorStandingsId', 'raceId', 'constructorId', 'points', 'position', 'positionText', 'wins'],\n",
            "    num_rows: 13391\n",
            "}), 'constructors': Dataset({\n",
            "    features: ['constructorId', 'constructorRef', 'name', 'nationality', 'url'],\n",
            "    num_rows: 212\n",
            "}), 'driver_standings': Dataset({\n",
            "    features: ['driverStandingsId', 'raceId', 'driverId', 'points', 'position', 'positionText', 'wins'],\n",
            "    num_rows: 34863\n",
            "}), 'lap_times': Dataset({\n",
            "    features: ['raceId', 'driverId', 'lap', 'position', 'time', 'milliseconds'],\n",
            "    num_rows: 589081\n",
            "}), 'pit_stops': Dataset({\n",
            "    features: ['raceId', 'driverId', 'stop', 'lap', 'time', 'duration', 'milliseconds'],\n",
            "    num_rows: 11371\n",
            "}), 'qualifying': Dataset({\n",
            "    features: ['qualifyId', 'raceId', 'driverId', 'constructorId', 'number', 'position', 'q1', 'q2', 'q3'],\n",
            "    num_rows: 10494\n",
            "}), 'races': Dataset({\n",
            "    features: ['raceId', 'year', 'round', 'circuitId', 'name', 'date', 'time', 'url', 'fp1_date', 'fp1_time', 'fp2_date', 'fp2_time', 'fp3_date', 'fp3_time', 'quali_date', 'quali_time', 'sprint_date', 'sprint_time'],\n",
            "    num_rows: 1125\n",
            "}), 'results': Dataset({\n",
            "    features: ['resultId', 'raceId', 'driverId', 'constructorId', 'number', 'grid', 'position', 'positionText', 'positionOrder', 'points', 'laps', 'time', 'milliseconds', 'fastestLap', 'rank', 'fastestLapTime', 'fastestLapSpeed', 'statusId'],\n",
            "    num_rows: 26759\n",
            "}), 'seasons': Dataset({\n",
            "    features: ['year', 'url'],\n",
            "    num_rows: 75\n",
            "}), 'sprint_results': Dataset({\n",
            "    features: ['resultId', 'raceId', 'driverId', 'constructorId', 'number', 'grid', 'position', 'positionText', 'positionOrder', 'points', 'laps', 'time', 'milliseconds', 'fastestLap', 'fastestLapTime', 'statusId'],\n",
            "    num_rows: 360\n",
            "}), 'status': Dataset({\n",
            "    features: ['statusId', 'status'],\n",
            "    num_rows: 139\n",
            "})}\n"
          ]
        }
      ]
    },
    {
      "cell_type": "code",
      "source": [
        "# create the training and testing dataset\n",
        "# created by raceId\n",
        "# result should be driver id\n",
        "import numpy as np\n",
        "import pandas as pd\n",
        "\n",
        "print(f1_dataset[\"races\"][:5][\"name\"])\n",
        "\n",
        "races_df = pd.DataFrame(f1_dataset['races'])\n",
        "drivers_df = pd.DataFrame(f1_dataset['drivers'])\n",
        "results_df = pd.DataFrame(f1_dataset['results'])\n",
        "qualifying_df = pd.DataFrame(f1_dataset['qualifying'])\n",
        "circuits_df = pd.DataFrame(f1_dataset['circuits'])\n",
        "status_df = pd.DataFrame(f1_dataset['status'])\n",
        "\n",
        "merged_df = pd.merge(\n",
        "    results_df,\n",
        "    races_df[['raceId', 'year', 'round', 'name', 'date', 'circuitId']],\n",
        "    on='raceId',\n",
        "    how='left'\n",
        ")\n",
        "\n",
        "merged_df = pd.merge(\n",
        "    merged_df,\n",
        "    circuits_df[['circuitId', 'name', 'location', 'country']],\n",
        "    on='circuitId',\n",
        "    how='left'\n",
        ")\n",
        "\n",
        "merged_df = merged_df.rename(columns={'name_x': 'race_name', 'name_y': 'circuit_name'})\n",
        "\n",
        "merged_df = pd.merge(\n",
        "    merged_df,\n",
        "    drivers_df[['driverId', 'driverRef', 'forename', 'surname', 'nationality']],\n",
        "    on='driverId',\n",
        "    how='left'\n",
        ")\n",
        "\n",
        "merged_df['driver_name'] = merged_df['forename'] + ' ' + merged_df['surname']\n",
        "\n",
        "qualifying_data = qualifying_df[['raceId', 'driverId', 'position', 'q1', 'q2', 'q3']]\n",
        "qualifying_data = qualifying_data.rename(columns={\n",
        "    'position': 'quali_position',\n",
        "    'q1': 'quali_time_q1',\n",
        "    'q2': 'quali_time_q2',\n",
        "    'q3': 'quali_time_q3'\n",
        "})\n",
        "\n",
        "merged_df = pd.merge(\n",
        "    merged_df,\n",
        "    qualifying_data,\n",
        "    on=['raceId', 'driverId'],\n",
        "    how='left'\n",
        ")\n",
        "\n",
        "# status just in case\n",
        "merged_df = pd.merge(\n",
        "    merged_df,\n",
        "    status_df[['statusId', 'status']],\n",
        "    on='statusId',\n",
        "    how='left'\n",
        ")\n",
        "\n",
        "# future cases to take into consideration where the racers race\n",
        "final_df = merged_df[[\n",
        "    'raceId', 'year', 'round', 'race_name', 'date',\n",
        "    'circuit_name', 'location', 'country',\n",
        "    'driverId', 'driver_name', 'driverRef', 'nationality',\n",
        "    'grid', 'position', 'positionText', 'positionOrder', 'points',\n",
        "    'laps', 'time', 'milliseconds',\n",
        "    'quali_position', 'quali_time_q1', 'quali_time_q2', 'quali_time_q3',\n",
        "    'fastestLap', 'fastestLapTime', 'fastestLapSpeed',\n",
        "    'status'\n",
        "]]\n",
        "\n",
        "final_df['position'] = pd.to_numeric(final_df['position'], errors='coerce')\n",
        "final_df['points'] = pd.to_numeric(final_df['points'], errors='coerce')\n",
        "final_df['finish_position'] = final_df['positionOrder']\n",
        "\n",
        "final_df = final_df.sort_values(['year', 'round', 'positionOrder'])\n",
        "\n",
        "final_df = final_df.reset_index(drop=True)"
      ],
      "metadata": {
        "colab": {
          "base_uri": "https://localhost:8080/"
        },
        "id": "7pyvpckuOQ2p",
        "outputId": "bfd04d2b-aea0-408d-ebde-45eaf1f64d63"
      },
      "execution_count": null,
      "outputs": [
        {
          "output_type": "stream",
          "name": "stdout",
          "text": [
            "['Australian Grand Prix', 'Malaysian Grand Prix', 'Chinese Grand Prix', 'Bahrain Grand Prix', 'Spanish Grand Prix']\n"
          ]
        },
        {
          "output_type": "stream",
          "name": "stderr",
          "text": [
            "<ipython-input-94-0ea3cf6e35e8>:76: SettingWithCopyWarning: \n",
            "A value is trying to be set on a copy of a slice from a DataFrame.\n",
            "Try using .loc[row_indexer,col_indexer] = value instead\n",
            "\n",
            "See the caveats in the documentation: https://pandas.pydata.org/pandas-docs/stable/user_guide/indexing.html#returning-a-view-versus-a-copy\n",
            "  final_df['position'] = pd.to_numeric(final_df['position'], errors='coerce')\n",
            "<ipython-input-94-0ea3cf6e35e8>:77: SettingWithCopyWarning: \n",
            "A value is trying to be set on a copy of a slice from a DataFrame.\n",
            "Try using .loc[row_indexer,col_indexer] = value instead\n",
            "\n",
            "See the caveats in the documentation: https://pandas.pydata.org/pandas-docs/stable/user_guide/indexing.html#returning-a-view-versus-a-copy\n",
            "  final_df['points'] = pd.to_numeric(final_df['points'], errors='coerce')\n",
            "<ipython-input-94-0ea3cf6e35e8>:78: SettingWithCopyWarning: \n",
            "A value is trying to be set on a copy of a slice from a DataFrame.\n",
            "Try using .loc[row_indexer,col_indexer] = value instead\n",
            "\n",
            "See the caveats in the documentation: https://pandas.pydata.org/pandas-docs/stable/user_guide/indexing.html#returning-a-view-versus-a-copy\n",
            "  final_df['finish_position'] = final_df['positionOrder']\n"
          ]
        }
      ]
    },
    {
      "cell_type": "code",
      "source": [
        "print(f\"Final dataset shape: {final_df['year']}\")\n",
        "\n",
        "# input : drivers competing\n",
        "# output : predicted standing\n",
        "\n",
        "# find index before 2022\n",
        "\n",
        "index = 0\n",
        "year = final_df[\"year\"][0]\n",
        "while year != 2022:\n",
        "  index += 1\n",
        "  year = final_df[\"year\"][index]\n",
        "\n",
        "# print(index)\n",
        "\n",
        "train_set = final_df[:index]\n",
        "test_set = final_df[index:]\n",
        "\n",
        "print(test_set.iloc[1])\n",
        "\n",
        "# print(train_set[\"year\"])\n",
        "# print(test_set[\"year\"])"
      ],
      "metadata": {
        "colab": {
          "base_uri": "https://localhost:8080/"
        },
        "id": "9NEOdgEdTDV-",
        "outputId": "cdf70354-b665-4dc4-a076-6e4274cc3bd9"
      },
      "execution_count": null,
      "outputs": [
        {
          "output_type": "stream",
          "name": "stdout",
          "text": [
            "Final dataset shape: 0        1950\n",
            "1        1950\n",
            "2        1950\n",
            "3        1950\n",
            "4        1950\n",
            "         ... \n",
            "26754    2024\n",
            "26755    2024\n",
            "26756    2024\n",
            "26757    2024\n",
            "26758    2024\n",
            "Name: year, Length: 26759, dtype: int64\n",
            "raceId                                      1074\n",
            "year                                        2022\n",
            "round                                          1\n",
            "race_name                     Bahrain Grand Prix\n",
            "date                                  2022-03-20\n",
            "circuit_name       Bahrain International Circuit\n",
            "location                                  Sakhir\n",
            "country                                  Bahrain\n",
            "driverId                                     832\n",
            "driver_name                         Carlos Sainz\n",
            "driverRef                                  sainz\n",
            "nationality                              Spanish\n",
            "grid                                           3\n",
            "position                                     2.0\n",
            "positionText                                   2\n",
            "positionOrder                                  2\n",
            "points                                      18.0\n",
            "laps                                          57\n",
            "time                                      +5.598\n",
            "milliseconds                             5859182\n",
            "quali_position                               3.0\n",
            "quali_time_q1                           1:31.567\n",
            "quali_time_q2                           1:30.787\n",
            "quali_time_q3                           1:30.687\n",
            "fastestLap                                    52\n",
            "fastestLapTime                          1:35.740\n",
            "fastestLapSpeed                          203.501\n",
            "status                                  Finished\n",
            "finish_position                                2\n",
            "Name: 25401, dtype: object\n"
          ]
        }
      ]
    },
    {
      "cell_type": "markdown",
      "source": [
        "Create Decision Tree"
      ],
      "metadata": {
        "id": "XXnz5OjBV70m"
      }
    },
    {
      "cell_type": "code",
      "source": [
        "from sklearn.model_selection import train_test_split\n",
        "from sklearn import tree\n",
        "\n",
        "X = train_set[['driverId', 'grid', 'quali_position', 'laps']]\n",
        "\n",
        "y = train_set[\"finish_position\"]\n",
        "\n",
        "print(y)\n",
        "\n",
        "print(X.iloc[0])\n",
        "\n",
        "clf = tree.DecisionTreeClassifier()\n",
        "clf = clf.fit(X, y)"
      ],
      "metadata": {
        "colab": {
          "base_uri": "https://localhost:8080/"
        },
        "id": "NOpfWDjJV7Wl",
        "outputId": "d00682c2-d705-495e-dbbe-61662e9b5781"
      },
      "execution_count": null,
      "outputs": [
        {
          "output_type": "stream",
          "name": "stdout",
          "text": [
            "0         1\n",
            "1         2\n",
            "2         3\n",
            "3         4\n",
            "4         5\n",
            "         ..\n",
            "25395    16\n",
            "25396    17\n",
            "25397    18\n",
            "25398    19\n",
            "25399    20\n",
            "Name: finish_position, Length: 25400, dtype: int64\n",
            "driverId          642.0\n",
            "grid                1.0\n",
            "quali_position      NaN\n",
            "laps               70.0\n",
            "Name: 0, dtype: float64\n"
          ]
        }
      ]
    },
    {
      "cell_type": "code",
      "source": [
        "# prediction code\n",
        "\n",
        "X_test = test_set[['driverId', 'grid', 'quali_position', 'laps']]\n",
        "\n",
        "# print(X_test)\n",
        "# print(len(X_test))\n",
        "correct = 0\n",
        "\n",
        "for index in range(len(X_test)):\n",
        "\n",
        "  test = X_test.iloc[[index]]\n",
        "  # print(test)\n",
        "  predictions = clf.predict(test)[0]\n",
        "\n",
        "  driver = test_set.iloc[index][\"driver_name\"]\n",
        "  # print(f\"Predicited Position for {driver} is {predictions}\")\n",
        "  actual = test_set.iloc[index][\"finish_position\"]\n",
        "  # print(f\"Actual Postion finished for {driver} is {actual}\\n\")\n",
        "\n",
        "  if actual == predictions:\n",
        "    correct+=1\n",
        "\n",
        "accuracy = correct / len(X_test)\n",
        "print(accuracy * 100)\n",
        "print(f\"Accuracy of the {round(accuracy * 100, 3)}%\")"
      ],
      "metadata": {
        "colab": {
          "base_uri": "https://localhost:8080/"
        },
        "id": "2mP87QvAZxdk",
        "outputId": "ea920b03-6eb3-4dc8-fd65-cf287542966d"
      },
      "execution_count": null,
      "outputs": [
        {
          "output_type": "stream",
          "name": "stdout",
          "text": [
            "1359\n",
            "11.626195732155997\n",
            "Accuracy of the 11.626%\n"
          ]
        }
      ]
    },
    {
      "cell_type": "code",
      "source": [
        "from sklearn.ensemble import HistGradientBoostingClassifier\n",
        "\n",
        "# Define classifier\n",
        "clf = HistGradientBoostingClassifier()\n",
        "clf.fit(X, y)  # Train the model\n",
        "\n",
        "correct = 0  # Initialize correct predictions count\n",
        "\n",
        "for index in range(len(X_test)):\n",
        "    test = X_test.iloc[[index]]  # Select a single row as DataFrame\n",
        "    predictions = clf.predict(test)[0]  # Predict the class label\n",
        "    driver = test_set.iloc[index][\"driver_name\"]\n",
        "    actual = test_set.iloc[index][\"finish_position\"]\n",
        "\n",
        "    if actual == predictions:\n",
        "        correct += 1\n",
        "\n",
        "# Calculate accuracy\n",
        "accuracy = correct / len(X_test)\n",
        "print(f\"Accuracy of the model: {round(accuracy * 100, 3)}%\")"
      ],
      "metadata": {
        "colab": {
          "base_uri": "https://localhost:8080/"
        },
        "id": "4u6R7OjJbmP8",
        "outputId": "078f2496-7b66-4dc7-a43a-662adeec9db4"
      },
      "execution_count": null,
      "outputs": [
        {
          "output_type": "stream",
          "name": "stdout",
          "text": [
            "Accuracy of the model: 19.058%\n"
          ]
        }
      ]
    }
  ]
}